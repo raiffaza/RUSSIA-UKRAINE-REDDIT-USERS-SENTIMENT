{
 "cells": [
  {
   "cell_type": "code",
   "execution_count": 5,
   "metadata": {},
   "outputs": [],
   "source": [
    "import numpy as np\n",
    "import pandas as pd\n",
    "import os\n",
    "\n",
    "pd.options.display.max_columns = 999\n",
    "pd.options.display.float_format = \"{:.2f}\".format\n",
    "pd.set_option('display.max_columns', None)\n",
    "pd.set_option('display.max_rows', None)"
   ]
  },
  {
   "cell_type": "code",
   "execution_count": 6,
   "metadata": {},
   "outputs": [
    {
     "data": {
      "text/html": [
       "<div>\n",
       "<style scoped>\n",
       "    .dataframe tbody tr th:only-of-type {\n",
       "        vertical-align: middle;\n",
       "    }\n",
       "\n",
       "    .dataframe tbody tr th {\n",
       "        vertical-align: top;\n",
       "    }\n",
       "\n",
       "    .dataframe thead th {\n",
       "        text-align: right;\n",
       "    }\n",
       "</style>\n",
       "<table border=\"1\" class=\"dataframe\">\n",
       "  <thead>\n",
       "    <tr style=\"text-align: right;\">\n",
       "      <th></th>\n",
       "      <th>comment_id</th>\n",
       "      <th>self_text</th>\n",
       "      <th>post_id</th>\n",
       "      <th>post_title</th>\n",
       "      <th>author_name</th>\n",
       "      <th>user_is_verified</th>\n",
       "      <th>post_created_time</th>\n",
       "      <th>clean_text</th>\n",
       "      <th>side</th>\n",
       "    </tr>\n",
       "  </thead>\n",
       "  <tbody>\n",
       "    <tr>\n",
       "      <th>0</th>\n",
       "      <td>mevinyg</td>\n",
       "      <td>This is all one side, no?</td>\n",
       "      <td>1iyjjde</td>\n",
       "      <td>Trump: ‘I know some Russian oligarchs that are...</td>\n",
       "      <td>MycologistRecent8959</td>\n",
       "      <td>True</td>\n",
       "      <td>2025-02-26 09:15:47</td>\n",
       "      <td>This is all one side, no?</td>\n",
       "      <td>Rusia</td>\n",
       "    </tr>\n",
       "    <tr>\n",
       "      <th>1</th>\n",
       "      <td>mevilft</td>\n",
       "      <td>Renaming MAGA to MAR (Make America Russia)?</td>\n",
       "      <td>1iym4pu</td>\n",
       "      <td>Trump says Ukraine’s Zelenskyy to sign ‘very b...</td>\n",
       "      <td>PointedSticks</td>\n",
       "      <td>True</td>\n",
       "      <td>2025-02-26 12:13:33</td>\n",
       "      <td>Renaming MAGA to MAR (Make America Russia)?</td>\n",
       "      <td>Rusia</td>\n",
       "    </tr>\n",
       "    <tr>\n",
       "      <th>2</th>\n",
       "      <td>mevildy</td>\n",
       "      <td>https://www.washingtonpost.com/politics/2025/0...</td>\n",
       "      <td>1iyl54v</td>\n",
       "      <td>Trump says Russian oligarchs could be eligible...</td>\n",
       "      <td>traumfisch</td>\n",
       "      <td>True</td>\n",
       "      <td>2025-02-26 11:11:23</td>\n",
       "      <td>http</td>\n",
       "      <td>Rusia</td>\n",
       "    </tr>\n",
       "    <tr>\n",
       "      <th>3</th>\n",
       "      <td>mevikqu</td>\n",
       "      <td>The US would be alone in those attacks anyway....</td>\n",
       "      <td>1iyjwrk</td>\n",
       "      <td>\"Putin waits for Trump to negotiate Ukraine wi...</td>\n",
       "      <td>Whatcanyado420</td>\n",
       "      <td>True</td>\n",
       "      <td>2025-02-26 09:44:03</td>\n",
       "      <td>The US would be alone in those attacks anyway....</td>\n",
       "      <td>Rusia</td>\n",
       "    </tr>\n",
       "    <tr>\n",
       "      <th>4</th>\n",
       "      <td>mevijjm</td>\n",
       "      <td>Withholding elections during a total war for y...</td>\n",
       "      <td>1iyjsu5</td>\n",
       "      <td>UA POV:  Oleksiy Kosach - Trump – not Zelensky...</td>\n",
       "      <td>kirotheavenger</td>\n",
       "      <td>True</td>\n",
       "      <td>2025-02-26 09:35:47</td>\n",
       "      <td>Withholding elections during a total war for y...</td>\n",
       "      <td>Rusia</td>\n",
       "    </tr>\n",
       "  </tbody>\n",
       "</table>\n",
       "</div>"
      ],
      "text/plain": [
       "  comment_id                                          self_text  post_id  \\\n",
       "0    mevinyg                          This is all one side, no?  1iyjjde   \n",
       "1    mevilft        Renaming MAGA to MAR (Make America Russia)?  1iym4pu   \n",
       "2    mevildy  https://www.washingtonpost.com/politics/2025/0...  1iyl54v   \n",
       "3    mevikqu  The US would be alone in those attacks anyway....  1iyjwrk   \n",
       "4    mevijjm  Withholding elections during a total war for y...  1iyjsu5   \n",
       "\n",
       "                                          post_title           author_name  \\\n",
       "0  Trump: ‘I know some Russian oligarchs that are...  MycologistRecent8959   \n",
       "1  Trump says Ukraine’s Zelenskyy to sign ‘very b...         PointedSticks   \n",
       "2  Trump says Russian oligarchs could be eligible...            traumfisch   \n",
       "3  \"Putin waits for Trump to negotiate Ukraine wi...        Whatcanyado420   \n",
       "4  UA POV:  Oleksiy Kosach - Trump – not Zelensky...        kirotheavenger   \n",
       "\n",
       "   user_is_verified    post_created_time  \\\n",
       "0              True  2025-02-26 09:15:47   \n",
       "1              True  2025-02-26 12:13:33   \n",
       "2              True  2025-02-26 11:11:23   \n",
       "3              True  2025-02-26 09:44:03   \n",
       "4              True  2025-02-26 09:35:47   \n",
       "\n",
       "                                          clean_text   side  \n",
       "0                          This is all one side, no?  Rusia  \n",
       "1        Renaming MAGA to MAR (Make America Russia)?  Rusia  \n",
       "2                                               http  Rusia  \n",
       "3  The US would be alone in those attacks anyway....  Rusia  \n",
       "4  Withholding elections during a total war for y...  Rusia  "
      ]
     },
     "execution_count": 6,
     "metadata": {},
     "output_type": "execute_result"
    }
   ],
   "source": [
    "data = pd.read_csv(\"dataset_2024_2025_updated.csv\")\n",
    "data.head()"
   ]
  },
  {
   "cell_type": "code",
   "execution_count": 7,
   "metadata": {},
   "outputs": [],
   "source": [
    "data['post_created_time'] = pd.to_datetime(data['post_created_time'])"
   ]
  },
  {
   "cell_type": "code",
   "execution_count": 8,
   "metadata": {},
   "outputs": [
    {
     "data": {
      "text/plain": [
       "comment_id           0\n",
       "self_text            0\n",
       "post_id              0\n",
       "post_title           0\n",
       "author_name          0\n",
       "user_is_verified     0\n",
       "post_created_time    0\n",
       "clean_text           0\n",
       "side                 0\n",
       "dtype: int64"
      ]
     },
     "execution_count": 8,
     "metadata": {},
     "output_type": "execute_result"
    }
   ],
   "source": [
    "data.isna().sum()"
   ]
  },
  {
   "cell_type": "code",
   "execution_count": 9,
   "metadata": {},
   "outputs": [
    {
     "name": "stdout",
     "output_type": "stream",
     "text": [
      "WARNING:tensorflow:From c:\\Users\\PC\\AppData\\Local\\Programs\\Python\\Python39\\lib\\site-packages\\tf_keras\\src\\losses.py:2976: The name tf.losses.sparse_softmax_cross_entropy is deprecated. Please use tf.compat.v1.losses.sparse_softmax_cross_entropy instead.\n",
      "\n"
     ]
    },
    {
     "name": "stderr",
     "output_type": "stream",
     "text": [
      "Device set to use cuda:0\n"
     ]
    }
   ],
   "source": [
    "import tensorflow as tf\n",
    "from transformers import pipeline\n",
    "\n",
    "# sentiment analysis task with twitter roberta model\n",
    "sentiment_pipeline = pipeline(\"sentiment-analysis\", model=\"cardiffnlp/twitter-roberta-base-sentiment\")"
   ]
  },
  {
   "cell_type": "code",
   "execution_count": 14,
   "metadata": {},
   "outputs": [
    {
     "name": "stderr",
     "output_type": "stream",
     "text": [
      "Device set to use cuda:0\n"
     ]
    },
    {
     "data": {
      "application/vnd.jupyter.widget-view+json": {
       "model_id": "089134d583fa4243b5c9e88443b1fbd7",
       "version_major": 2,
       "version_minor": 0
      },
      "text/plain": [
       "Map:   0%|          | 0/1169005 [00:00<?, ? examples/s]"
      ]
     },
     "metadata": {},
     "output_type": "display_data"
    },
    {
     "name": "stdout",
     "output_type": "stream",
     "text": [
      "Dataset berhasil diperbarui dan disimpan sebagai dataset_with_sentiment.csv\n",
      "  comment_id                                          self_text  post_id  \\\n",
      "0    mevinyg                          This is all one side, no?  1iyjjde   \n",
      "1    mevilft        Renaming MAGA to MAR (Make America Russia)?  1iym4pu   \n",
      "2    mevildy  https://www.washingtonpost.com/politics/2025/0...  1iyl54v   \n",
      "3    mevikqu  The US would be alone in those attacks anyway....  1iyjwrk   \n",
      "4    mevijjm  Withholding elections during a total war for y...  1iyjsu5   \n",
      "\n",
      "                                          post_title           author_name  \\\n",
      "0  Trump: ‘I know some Russian oligarchs that are...  MycologistRecent8959   \n",
      "1  Trump says Ukraine’s Zelenskyy to sign ‘very b...         PointedSticks   \n",
      "2  Trump says Russian oligarchs could be eligible...            traumfisch   \n",
      "3  \"Putin waits for Trump to negotiate Ukraine wi...        Whatcanyado420   \n",
      "4  UA POV:  Oleksiy Kosach - Trump – not Zelensky...        kirotheavenger   \n",
      "\n",
      "   user_is_verified   post_created_time  \\\n",
      "0              True 2025-02-26 09:15:47   \n",
      "1              True 2025-02-26 12:13:33   \n",
      "2              True 2025-02-26 11:11:23   \n",
      "3              True 2025-02-26 09:44:03   \n",
      "4              True 2025-02-26 09:35:47   \n",
      "\n",
      "                                          clean_text   side sentiment  \\\n",
      "0                   <s>This is all one side, no?</s>  Rusia   Neutral   \n",
      "1  <s>Renaming MAGA to MAR (Make America Russia)?...  Rusia   Neutral   \n",
      "2                                        <s>http</s>  Rusia   Neutral   \n",
      "3  <s>The US would be alone in those attacks anyw...  Rusia  Negative   \n",
      "4  <s>Withholding elections during a total war fo...  Rusia  Negative   \n",
      "\n",
      "   sentiment_score  \n",
      "0             0.78  \n",
      "1             0.65  \n",
      "2             0.48  \n",
      "3             0.66  \n",
      "4             0.73  \n"
     ]
    }
   ],
   "source": [
    "import pandas as pd\n",
    "from datasets import Dataset\n",
    "from transformers import pipeline, AutoTokenizer\n",
    "\n",
    "# Pastikan 'clean_text' hanya berisi string dan tidak ada nilai NaN\n",
    "data['clean_text'] = data['clean_text'].fillna(\"\")  # Ganti NaN dengan string kosong\n",
    "\n",
    "# Muat tokenizer untuk model\n",
    "tokenizer = AutoTokenizer.from_pretrained(\"cardiffnlp/twitter-roberta-base-sentiment\")\n",
    "\n",
    "# Potong teks ke panjang maksimum 512 token\n",
    "def truncate_text(text, max_length=512):\n",
    "    return tokenizer.decode(tokenizer.encode(text, truncation=True, max_length=max_length))\n",
    "\n",
    "data['clean_text'] = data['clean_text'].apply(truncate_text)\n",
    "\n",
    "# Konversi DataFrame ke Dataset\n",
    "dataset = Dataset.from_pandas(data)\n",
    "\n",
    "# Inisialisasi pipeline dengan truncation dan max_length\n",
    "sentiment_pipeline = pipeline(\n",
    "    \"sentiment-analysis\",\n",
    "    model=\"cardiffnlp/twitter-roberta-base-sentiment\",\n",
    "    tokenizer=tokenizer,  # Gunakan tokenizer yang sama\n",
    "    truncation=True,\n",
    "    max_length=512\n",
    ")\n",
    "\n",
    "# Fungsi untuk memproses batch\n",
    "def process_batch(batch):\n",
    "    try:\n",
    "        results = sentiment_pipeline(batch['clean_text'])\n",
    "        return {\n",
    "            \"sentiment\": [result['label'] for result in results],\n",
    "            \"sentiment_score\": [result['score'] for result in results]\n",
    "        }\n",
    "    except Exception as e:\n",
    "        print(f\"Error processing batch: {batch['clean_text']}\")\n",
    "        raise\n",
    "\n",
    "# Terapkan fungsi ke dataset dengan batch processing\n",
    "batch_size = 64  # Sesuaikan ukuran batch sesuai kapasitas GPU\n",
    "dataset = dataset.map(process_batch, batched=True, batch_size=batch_size)\n",
    "\n",
    "# Konversi kembali ke DataFrame\n",
    "data = dataset.to_pandas()\n",
    "\n",
    "# Map model labels ke kategori yang lebih bermakna\n",
    "label_mapping = {\n",
    "    'LABEL_0': 'Negative',\n",
    "    'LABEL_1': 'Neutral',\n",
    "    'LABEL_2': 'Positive'\n",
    "}\n",
    "data['sentiment'] = data['sentiment'].map(label_mapping)\n",
    "\n",
    "# Simpan hasil ke file CSV\n",
    "data.to_csv('dataset_with_sentiment.csv', index=False)\n",
    "\n",
    "# Tampilkan hasil\n",
    "print(\"Dataset berhasil diperbarui dan disimpan sebagai dataset_with_sentiment.csv\")\n",
    "print(data.head())"
   ]
  },
  {
   "cell_type": "code",
   "execution_count": 22,
   "metadata": {},
   "outputs": [],
   "source": [
    "dataset = pd.read_csv(\"dataset_with_sentiment.csv\")"
   ]
  },
  {
   "cell_type": "code",
   "execution_count": 28,
   "metadata": {},
   "outputs": [
    {
     "data": {
      "text/html": [
       "<div>\n",
       "<style scoped>\n",
       "    .dataframe tbody tr th:only-of-type {\n",
       "        vertical-align: middle;\n",
       "    }\n",
       "\n",
       "    .dataframe tbody tr th {\n",
       "        vertical-align: top;\n",
       "    }\n",
       "\n",
       "    .dataframe thead th {\n",
       "        text-align: right;\n",
       "    }\n",
       "</style>\n",
       "<table border=\"1\" class=\"dataframe\">\n",
       "  <thead>\n",
       "    <tr style=\"text-align: right;\">\n",
       "      <th></th>\n",
       "      <th>comment_id</th>\n",
       "      <th>self_text</th>\n",
       "      <th>post_id</th>\n",
       "      <th>post_title</th>\n",
       "      <th>author_name</th>\n",
       "      <th>user_is_verified</th>\n",
       "      <th>post_created_time</th>\n",
       "      <th>clean_text</th>\n",
       "      <th>side</th>\n",
       "      <th>sentiment</th>\n",
       "      <th>sentiment_score</th>\n",
       "    </tr>\n",
       "  </thead>\n",
       "  <tbody>\n",
       "    <tr>\n",
       "      <th>3</th>\n",
       "      <td>mevikqu</td>\n",
       "      <td>The US would be alone in those attacks anyway....</td>\n",
       "      <td>1iyjwrk</td>\n",
       "      <td>\"Putin waits for Trump to negotiate Ukraine wi...</td>\n",
       "      <td>Whatcanyado420</td>\n",
       "      <td>True</td>\n",
       "      <td>2025-02-26 09:44:03</td>\n",
       "      <td>&lt;s&gt;The US would be alone in those attacks anyw...</td>\n",
       "      <td>Rusia</td>\n",
       "      <td>Negative</td>\n",
       "      <td>0.66</td>\n",
       "    </tr>\n",
       "    <tr>\n",
       "      <th>4</th>\n",
       "      <td>mevijjm</td>\n",
       "      <td>Withholding elections during a total war for y...</td>\n",
       "      <td>1iyjsu5</td>\n",
       "      <td>UA POV:  Oleksiy Kosach - Trump – not Zelensky...</td>\n",
       "      <td>kirotheavenger</td>\n",
       "      <td>True</td>\n",
       "      <td>2025-02-26 09:35:47</td>\n",
       "      <td>&lt;s&gt;Withholding elections during a total war fo...</td>\n",
       "      <td>Rusia</td>\n",
       "      <td>Negative</td>\n",
       "      <td>0.73</td>\n",
       "    </tr>\n",
       "    <tr>\n",
       "      <th>5</th>\n",
       "      <td>meviixk</td>\n",
       "      <td>They don't take to streets like europeans, I m...</td>\n",
       "      <td>1iyl54v</td>\n",
       "      <td>Trump says Russian oligarchs could be eligible...</td>\n",
       "      <td>CneusPompeius</td>\n",
       "      <td>True</td>\n",
       "      <td>2025-02-26 11:11:23</td>\n",
       "      <td>&lt;s&gt;They don't take to streets like europeans, ...</td>\n",
       "      <td>Rusia</td>\n",
       "      <td>Negative</td>\n",
       "      <td>0.79</td>\n",
       "    </tr>\n",
       "    <tr>\n",
       "      <th>6</th>\n",
       "      <td>mevihno</td>\n",
       "      <td>I don't think any alleged/assumed security gua...</td>\n",
       "      <td>1iyhakh</td>\n",
       "      <td>US, Ukraine agree to terms on mineral deal, Uk...</td>\n",
       "      <td>East_Type_1136</td>\n",
       "      <td>True</td>\n",
       "      <td>2025-02-26 06:32:52</td>\n",
       "      <td>&lt;s&gt;I don't think any alleged/assumed security ...</td>\n",
       "      <td>Rusia</td>\n",
       "      <td>Negative</td>\n",
       "      <td>0.60</td>\n",
       "    </tr>\n",
       "    <tr>\n",
       "      <th>8</th>\n",
       "      <td>mevih55</td>\n",
       "      <td>Horrible, reprehensible, and pretty much par f...</td>\n",
       "      <td>1iyilcw</td>\n",
       "      <td>What are your thoughts on Trump calling Zelens...</td>\n",
       "      <td>Flyers45432</td>\n",
       "      <td>True</td>\n",
       "      <td>2025-02-26 08:05:06</td>\n",
       "      <td>&lt;s&gt;Horrible, reprehensible, and pretty much pa...</td>\n",
       "      <td>Rusia</td>\n",
       "      <td>Negative</td>\n",
       "      <td>0.95</td>\n",
       "    </tr>\n",
       "  </tbody>\n",
       "</table>\n",
       "</div>"
      ],
      "text/plain": [
       "  comment_id                                          self_text  post_id  \\\n",
       "3    mevikqu  The US would be alone in those attacks anyway....  1iyjwrk   \n",
       "4    mevijjm  Withholding elections during a total war for y...  1iyjsu5   \n",
       "5    meviixk  They don't take to streets like europeans, I m...  1iyl54v   \n",
       "6    mevihno  I don't think any alleged/assumed security gua...  1iyhakh   \n",
       "8    mevih55  Horrible, reprehensible, and pretty much par f...  1iyilcw   \n",
       "\n",
       "                                          post_title     author_name  \\\n",
       "3  \"Putin waits for Trump to negotiate Ukraine wi...  Whatcanyado420   \n",
       "4  UA POV:  Oleksiy Kosach - Trump – not Zelensky...  kirotheavenger   \n",
       "5  Trump says Russian oligarchs could be eligible...   CneusPompeius   \n",
       "6  US, Ukraine agree to terms on mineral deal, Uk...  East_Type_1136   \n",
       "8  What are your thoughts on Trump calling Zelens...     Flyers45432   \n",
       "\n",
       "   user_is_verified    post_created_time  \\\n",
       "3              True  2025-02-26 09:44:03   \n",
       "4              True  2025-02-26 09:35:47   \n",
       "5              True  2025-02-26 11:11:23   \n",
       "6              True  2025-02-26 06:32:52   \n",
       "8              True  2025-02-26 08:05:06   \n",
       "\n",
       "                                          clean_text   side sentiment  \\\n",
       "3  <s>The US would be alone in those attacks anyw...  Rusia  Negative   \n",
       "4  <s>Withholding elections during a total war fo...  Rusia  Negative   \n",
       "5  <s>They don't take to streets like europeans, ...  Rusia  Negative   \n",
       "6  <s>I don't think any alleged/assumed security ...  Rusia  Negative   \n",
       "8  <s>Horrible, reprehensible, and pretty much pa...  Rusia  Negative   \n",
       "\n",
       "   sentiment_score  \n",
       "3             0.66  \n",
       "4             0.73  \n",
       "5             0.79  \n",
       "6             0.60  \n",
       "8             0.95  "
      ]
     },
     "execution_count": 28,
     "metadata": {},
     "output_type": "execute_result"
    }
   ],
   "source": [
    "dataset.loc[(dataset['side'] == 'Rusia') & (dataset['sentiment'] == 'Negative')].head()"
   ]
  },
  {
   "cell_type": "code",
   "execution_count": 29,
   "metadata": {},
   "outputs": [
    {
     "name": "stdout",
     "output_type": "stream",
     "text": [
      "<class 'pandas.core.frame.DataFrame'>\n",
      "RangeIndex: 1169005 entries, 0 to 1169004\n",
      "Data columns (total 11 columns):\n",
      " #   Column             Non-Null Count    Dtype  \n",
      "---  ------             --------------    -----  \n",
      " 0   comment_id         1169005 non-null  object \n",
      " 1   self_text          1169005 non-null  object \n",
      " 2   post_id            1169005 non-null  object \n",
      " 3   post_title         1169005 non-null  object \n",
      " 4   author_name        1169005 non-null  object \n",
      " 5   user_is_verified   1169005 non-null  bool   \n",
      " 6   post_created_time  1169005 non-null  object \n",
      " 7   clean_text         1169005 non-null  object \n",
      " 8   side               1169005 non-null  object \n",
      " 9   sentiment          1169005 non-null  object \n",
      " 10  sentiment_score    1169005 non-null  float64\n",
      "dtypes: bool(1), float64(1), object(9)\n",
      "memory usage: 90.3+ MB\n"
     ]
    }
   ],
   "source": [
    "dataset.info()"
   ]
  },
  {
   "cell_type": "code",
   "execution_count": 30,
   "metadata": {},
   "outputs": [],
   "source": [
    "dataset['post_created_time'] = pd.to_datetime(dataset['post_created_time'])"
   ]
  },
  {
   "cell_type": "code",
   "execution_count": 32,
   "metadata": {},
   "outputs": [
    {
     "name": "stdout",
     "output_type": "stream",
     "text": [
      "<class 'pandas.core.frame.DataFrame'>\n",
      "RangeIndex: 1169005 entries, 0 to 1169004\n",
      "Data columns (total 11 columns):\n",
      " #   Column             Non-Null Count    Dtype         \n",
      "---  ------             --------------    -----         \n",
      " 0   comment_id         1169005 non-null  object        \n",
      " 1   self_text          1169005 non-null  object        \n",
      " 2   post_id            1169005 non-null  object        \n",
      " 3   post_title         1169005 non-null  object        \n",
      " 4   author_name        1169005 non-null  object        \n",
      " 5   user_is_verified   1169005 non-null  bool          \n",
      " 6   post_created_time  1169005 non-null  datetime64[ns]\n",
      " 7   clean_text         1169005 non-null  object        \n",
      " 8   side               1169005 non-null  object        \n",
      " 9   sentiment          1169005 non-null  object        \n",
      " 10  sentiment_score    1169005 non-null  float64       \n",
      "dtypes: bool(1), datetime64[ns](1), float64(1), object(8)\n",
      "memory usage: 90.3+ MB\n"
     ]
    }
   ],
   "source": [
    "dataset.info()"
   ]
  }
 ],
 "metadata": {
  "kernelspec": {
   "display_name": "Python 3",
   "language": "python",
   "name": "python3"
  },
  "language_info": {
   "codemirror_mode": {
    "name": "ipython",
    "version": 3
   },
   "file_extension": ".py",
   "mimetype": "text/x-python",
   "name": "python",
   "nbconvert_exporter": "python",
   "pygments_lexer": "ipython3",
   "version": "3.9.10"
  }
 },
 "nbformat": 4,
 "nbformat_minor": 2
}
